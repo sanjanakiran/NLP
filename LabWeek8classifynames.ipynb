{
 "cells": [
  {
   "cell_type": "code",
   "execution_count": 1,
   "metadata": {
    "collapsed": true
   },
   "outputs": [],
   "source": [
    "import nltk"
   ]
  },
  {
   "cell_type": "code",
   "execution_count": 3,
   "metadata": {},
   "outputs": [
    {
     "name": "stdout",
     "output_type": "stream",
     "text": [
      "{'last_letter': 'k'}\n"
     ]
    }
   ],
   "source": [
    "# define a feature extraction function for each name\n",
    "def gender_features(word):\n",
    "    return{'last_letter': word[-1]}\n",
    "print(gender_features('Shrek'))"
   ]
  },
  {
   "cell_type": "code",
   "execution_count": 4,
   "metadata": {},
   "outputs": [
    {
     "name": "stdout",
     "output_type": "stream",
     "text": [
      "['Aamir', 'Aaron', 'Abbey', 'Abbie', 'Abbot', 'Abbott', 'Abby', 'Abdel', 'Abdul', 'Abdulkarim', 'Abdullah', 'Abe', 'Abel', 'Abelard', 'Abner', 'Abraham', 'Abram', 'Ace', 'Adair', 'Adam']\n",
      "['Abagael', 'Abagail', 'Abbe', 'Abbey', 'Abbi', 'Abbie', 'Abby', 'Abigael', 'Abigail', 'Abigale', 'Abra', 'Acacia', 'Ada', 'Adah', 'Adaline', 'Adara', 'Addie', 'Addis', 'Adel', 'Adela']\n"
     ]
    }
   ],
   "source": [
    "# resource for male and female first names\n",
    "from nltk.corpus import names\n",
    "print(names.words('male.txt')[:20])\n",
    "print(names.words('female.txt')[:20])"
   ]
  },
  {
   "cell_type": "code",
   "execution_count": 5,
   "metadata": {},
   "outputs": [
    {
     "name": "stdout",
     "output_type": "stream",
     "text": [
      "7944\n",
      "[('Aamir', 'male'), ('Aaron', 'male'), ('Abbey', 'male'), ('Abbie', 'male'), ('Abbot', 'male'), ('Abbott', 'male'), ('Abby', 'male'), ('Abdel', 'male'), ('Abdul', 'male'), ('Abdulkarim', 'male'), ('Abdullah', 'male'), ('Abe', 'male'), ('Abel', 'male'), ('Abelard', 'male'), ('Abner', 'male'), ('Abraham', 'male'), ('Abram', 'male'), ('Ace', 'male'), ('Adair', 'male'), ('Adam', 'male')]\n",
      "[('Zena', 'female'), ('Zenia', 'female'), ('Zia', 'female'), ('Zilvia', 'female'), ('Zita', 'female'), ('Zitella', 'female'), ('Zoe', 'female'), ('Zola', 'female'), ('Zonda', 'female'), ('Zondra', 'female'), ('Zonnya', 'female'), ('Zora', 'female'), ('Zorah', 'female'), ('Zorana', 'female'), ('Zorina', 'female'), ('Zorine', 'female'), ('Zsa Zsa', 'female'), ('Zsazsa', 'female'), ('Zulema', 'female'), ('Zuzana', 'female')]\n"
     ]
    }
   ],
   "source": [
    "# make list of male and female names paired with gender\n",
    "namesgender = ([(name, 'male') for name in names.words('male.txt')] +\n",
    "          [(name, 'female') for name in names.words('female.txt')])\n",
    "print(len(namesgender))\n",
    "print(namesgender[:20])   # first 20\n",
    "print(namesgender[7924:])  # last 20"
   ]
  },
  {
   "cell_type": "code",
   "execution_count": 6,
   "metadata": {},
   "outputs": [
    {
     "name": "stdout",
     "output_type": "stream",
     "text": [
      "[('Charlot', 'female'), ('Carol-Jean', 'female'), ('Leonerd', 'male'), ('Demetrius', 'male'), ('Tabatha', 'female'), ('Baillie', 'male'), ('Norina', 'female'), ('Nancey', 'female'), ('Pier', 'female'), ('Nichole', 'female'), ('Lauraine', 'female'), ('Udell', 'male'), ('Barth', 'male'), ('Reuben', 'male'), ('Katinka', 'female'), ('Christophe', 'male'), ('Christ', 'male'), ('Klee', 'male'), ('Andee', 'female'), ('Kacey', 'female')]\n"
     ]
    }
   ],
   "source": [
    "# put the list into random order\n",
    "import random\n",
    "random.shuffle(namesgender)\n",
    "print(namesgender[:20])"
   ]
  },
  {
   "cell_type": "code",
   "execution_count": 7,
   "metadata": {},
   "outputs": [
    {
     "name": "stdout",
     "output_type": "stream",
     "text": [
      "[({'last_letter': 't'}, 'female'), ({'last_letter': 'n'}, 'female'), ({'last_letter': 'd'}, 'male'), ({'last_letter': 's'}, 'male'), ({'last_letter': 'a'}, 'female'), ({'last_letter': 'e'}, 'male'), ({'last_letter': 'a'}, 'female'), ({'last_letter': 'y'}, 'female'), ({'last_letter': 'r'}, 'female'), ({'last_letter': 'e'}, 'female'), ({'last_letter': 'e'}, 'female'), ({'last_letter': 'l'}, 'male'), ({'last_letter': 'h'}, 'male'), ({'last_letter': 'n'}, 'male'), ({'last_letter': 'a'}, 'female'), ({'last_letter': 'e'}, 'male'), ({'last_letter': 't'}, 'male'), ({'last_letter': 'e'}, 'male'), ({'last_letter': 'e'}, 'female'), ({'last_letter': 'y'}, 'female')]\n"
     ]
    }
   ],
   "source": [
    "# featuresets represent each name as features and a label\n",
    "featuresets = [(gender_features(n), g) for (n, g) in namesgender]\n",
    "print(featuresets[:20])"
   ]
  },
  {
   "cell_type": "code",
   "execution_count": 10,
   "metadata": {},
   "outputs": [
    {
     "name": "stdout",
     "output_type": "stream",
     "text": [
      "male\n",
      "female\n"
     ]
    }
   ],
   "source": [
    "# create training and test sets, run a classifier and show the accuracy\n",
    "train_set, test_set = featuresets[500:], featuresets[:500]\n",
    "classifier = nltk.NaiveBayesClassifier.train(train_set)\n",
    "\n",
    "# classify new instances\n",
    "print(classifier.classify(gender_features('Neo')))\n",
    "print(classifier.classify(gender_features('Trinity')))"
   ]
  },
  {
   "cell_type": "code",
   "execution_count": 11,
   "metadata": {},
   "outputs": [
    {
     "name": "stdout",
     "output_type": "stream",
     "text": [
      "0.774\n"
     ]
    }
   ],
   "source": [
    "# classify accuracy function runs the classifier on the test set and reports\n",
    "#   comparisons between predicted labels and actual/gold labels\n",
    "print(nltk.classify.accuracy(classifier, test_set))"
   ]
  },
  {
   "cell_type": "code",
   "execution_count": 12,
   "metadata": {},
   "outputs": [
    {
     "name": "stdout",
     "output_type": "stream",
     "text": [
      "Most Informative Features\n",
      "             last_letter = 'a'            female : male   =     34.3 : 1.0\n",
      "             last_letter = 'k'              male : female =     30.9 : 1.0\n",
      "             last_letter = 'f'              male : female =     16.0 : 1.0\n",
      "             last_letter = 'p'              male : female =     12.6 : 1.0\n",
      "             last_letter = 'v'              male : female =     11.3 : 1.0\n",
      "             last_letter = 'd'              male : female =      9.4 : 1.0\n",
      "             last_letter = 'm'              male : female =      9.2 : 1.0\n",
      "             last_letter = 'o'              male : female =      8.5 : 1.0\n",
      "             last_letter = 'r'              male : female =      7.0 : 1.0\n",
      "             last_letter = 'w'              male : female =      5.4 : 1.0\n",
      "             last_letter = 'g'              male : female =      5.1 : 1.0\n",
      "             last_letter = 'z'              male : female =      4.4 : 1.0\n",
      "             last_letter = 's'              male : female =      4.1 : 1.0\n",
      "             last_letter = 't'              male : female =      4.1 : 1.0\n",
      "             last_letter = 'j'              male : female =      4.0 : 1.0\n",
      "             last_letter = 'b'              male : female =      3.9 : 1.0\n",
      "             last_letter = 'i'            female : male   =      3.6 : 1.0\n",
      "             last_letter = 'u'              male : female =      2.5 : 1.0\n",
      "             last_letter = 'n'              male : female =      2.1 : 1.0\n",
      "             last_letter = 'e'            female : male   =      1.8 : 1.0\n",
      "None\n"
     ]
    }
   ],
   "source": [
    "# this function available for naive bayes classifiers\n",
    "print(classifier.show_most_informative_features(20))"
   ]
  },
  {
   "cell_type": "code",
   "execution_count": 13,
   "metadata": {
    "collapsed": true
   },
   "outputs": [],
   "source": [
    "# creating lots of features\n",
    "#   there are probably too many features but we are demonstrating different\n",
    "#     types of features\n",
    "def gender_features2(name):\n",
    "    features = {}\n",
    "    features[\"firstletter\"] = name[0].lower()\n",
    "    features[\"lastletter\"] = name[-1].lower()\n",
    "    for letter in 'abcdefghijklmnopqrstuvwxyz':\n",
    "        features[\"count({})\".format(letter)] = name.lower().count(letter)\n",
    "        features[\"has({})\".format(letter)] = (letter in name.lower())\n",
    "    return features"
   ]
  },
  {
   "cell_type": "code",
   "execution_count": 14,
   "metadata": {},
   "outputs": [
    {
     "name": "stdout",
     "output_type": "stream",
     "text": [
      "54\n",
      "{'firstletter': 's', 'lastletter': 'k', 'count(a)': 0, 'has(a)': False, 'count(b)': 0, 'has(b)': False, 'count(c)': 0, 'has(c)': False, 'count(d)': 0, 'has(d)': False, 'count(e)': 1, 'has(e)': True, 'count(f)': 0, 'has(f)': False, 'count(g)': 0, 'has(g)': False, 'count(h)': 1, 'has(h)': True, 'count(i)': 0, 'has(i)': False, 'count(j)': 0, 'has(j)': False, 'count(k)': 1, 'has(k)': True, 'count(l)': 0, 'has(l)': False, 'count(m)': 0, 'has(m)': False, 'count(n)': 0, 'has(n)': False, 'count(o)': 0, 'has(o)': False, 'count(p)': 0, 'has(p)': False, 'count(q)': 0, 'has(q)': False, 'count(r)': 1, 'has(r)': True, 'count(s)': 1, 'has(s)': True, 'count(t)': 0, 'has(t)': False, 'count(u)': 0, 'has(u)': False, 'count(v)': 0, 'has(v)': False, 'count(w)': 0, 'has(w)': False, 'count(x)': 0, 'has(x)': False, 'count(y)': 0, 'has(y)': False, 'count(z)': 0, 'has(z)': False}\n"
     ]
    }
   ],
   "source": [
    "features = gender_features2('Shrek')\n",
    "print(len(features))\n",
    "print(features)"
   ]
  },
  {
   "cell_type": "code",
   "execution_count": 15,
   "metadata": {
    "collapsed": true
   },
   "outputs": [],
   "source": [
    "# create feature sets using this function\n",
    "featuresets2 = [(gender_features2(n), g) for (n, g) in namesgender]"
   ]
  },
  {
   "cell_type": "code",
   "execution_count": 16,
   "metadata": {},
   "outputs": [
    {
     "name": "stdout",
     "output_type": "stream",
     "text": [
      "0.778\n"
     ]
    }
   ],
   "source": [
    "# create new training and test sets, classify and look at accuracy\n",
    "train_set, test_set = featuresets2[500:], featuresets2[:500]\n",
    "classifier = nltk.NaiveBayesClassifier.train(train_set)\n",
    "print(nltk.classify.accuracy(classifier, test_set))"
   ]
  },
  {
   "cell_type": "code",
   "execution_count": 17,
   "metadata": {
    "collapsed": true
   },
   "outputs": [],
   "source": [
    "## Experiment related to lab exercise for today\n",
    "# go back and separate the names into training and test\n",
    "train_names = namesgender[500:]\n",
    "test_names = namesgender[:500]"
   ]
  },
  {
   "cell_type": "code",
   "execution_count": 18,
   "metadata": {},
   "outputs": [
    {
     "name": "stdout",
     "output_type": "stream",
     "text": [
      "0.774\n"
     ]
    }
   ],
   "source": [
    "# use our original features to train a classify and test on the development test set\n",
    "train_set = [(gender_features(n), g) for (n, g) in train_names]\n",
    "test_set = [(gender_features(n), g) for (n, g) in test_names]\n",
    "classifier = nltk.NaiveBayesClassifier.train(train_set)\n",
    "\n",
    "# save the classifier accuracy for use in the exercise\n",
    "print(nltk.classify.accuracy(classifier, test_set))"
   ]
  },
  {
   "cell_type": "code",
   "execution_count": 19,
   "metadata": {
    "collapsed": true
   },
   "outputs": [],
   "source": [
    "# define a function that will compare the classifier labels with the gold standard labels\n",
    "def geterrors(test):\n",
    "    errors = []\n",
    "    for (name, tag) in test:\n",
    "        guess = classifier.classify(gender_features(name))\n",
    "        if guess != tag:\n",
    "            errors.append( (tag, guess, name) )\n",
    "    return errors"
   ]
  },
  {
   "cell_type": "code",
   "execution_count": 20,
   "metadata": {},
   "outputs": [
    {
     "name": "stdout",
     "output_type": "stream",
     "text": [
      "113\n"
     ]
    }
   ],
   "source": [
    "errors = geterrors(test_names)\n",
    "print(len(errors))"
   ]
  },
  {
   "cell_type": "code",
   "execution_count": 21,
   "metadata": {},
   "outputs": [
    {
     "name": "stdout",
     "output_type": "stream",
     "text": [
      "correct=female   guess=male     name=Addis                         \n",
      "correct=female   guess=male     name=Allys                         \n",
      "correct=female   guess=male     name=Alys                          \n",
      "correct=female   guess=male     name=Alyson                        \n",
      "correct=female   guess=male     name=Angil                         \n",
      "correct=female   guess=male     name=Bliss                         \n",
      "correct=female   guess=male     name=Caitrin                       \n",
      "correct=female   guess=male     name=Carol-Jean                    \n",
      "correct=female   guess=male     name=Caron                         \n",
      "correct=female   guess=male     name=Ceil                          \n",
      "correct=female   guess=male     name=Charleen                      \n",
      "correct=female   guess=male     name=Charlot                       \n",
      "correct=female   guess=male     name=Coral                         \n",
      "correct=female   guess=male     name=Corliss                       \n",
      "correct=female   guess=male     name=Cris                          \n",
      "correct=female   guess=male     name=Cristal                       \n",
      "correct=female   guess=male     name=Cyb                           \n",
      "correct=female   guess=male     name=Darell                        \n",
      "correct=female   guess=male     name=Devin                         \n",
      "correct=female   guess=male     name=Doll                          \n",
      "correct=female   guess=male     name=Eileen                        \n",
      "correct=female   guess=male     name=Elinor                        \n",
      "correct=female   guess=male     name=Erinn                         \n",
      "correct=female   guess=male     name=Eryn                          \n",
      "correct=female   guess=male     name=Evangelin                     \n",
      "correct=female   guess=male     name=Francis                       \n",
      "correct=female   guess=male     name=Fred                          \n",
      "correct=female   guess=male     name=Gennifer                      \n",
      "correct=female   guess=male     name=Grissel                       \n",
      "correct=female   guess=male     name=Harriot                       \n",
      "correct=female   guess=male     name=Hester                        \n",
      "correct=female   guess=male     name=Hildagard                     \n",
      "correct=female   guess=male     name=Jaclin                        \n",
      "correct=female   guess=male     name=Joann                         \n",
      "correct=female   guess=male     name=Karyl                         \n",
      "correct=female   guess=male     name=Katleen                       \n",
      "correct=female   guess=male     name=Kellen                        \n",
      "correct=female   guess=male     name=Kim                           \n",
      "correct=female   guess=male     name=Lian                          \n",
      "correct=female   guess=male     name=Lynnett                       \n",
      "correct=female   guess=male     name=Maren                         \n",
      "correct=female   guess=male     name=Margalit                      \n",
      "correct=female   guess=male     name=Maribel                       \n",
      "correct=female   guess=male     name=Maryjo                        \n",
      "correct=female   guess=male     name=Maureen                       \n",
      "correct=female   guess=male     name=Meggan                        \n",
      "correct=female   guess=male     name=Mehetabel                     \n",
      "correct=female   guess=male     name=Noell                         \n",
      "correct=female   guess=male     name=Phil                          \n",
      "correct=female   guess=male     name=Pier                          \n",
      "correct=female   guess=male     name=Rosalyn                       \n",
      "correct=male     guess=female   name=Alfie                         \n",
      "correct=male     guess=female   name=Allie                         \n",
      "correct=male     guess=female   name=Amery                         \n",
      "correct=male     guess=female   name=Andy                          \n",
      "correct=male     guess=female   name=Arne                          \n",
      "correct=male     guess=female   name=Bailey                        \n",
      "correct=male     guess=female   name=Baillie                       \n",
      "correct=male     guess=female   name=Barnaby                       \n",
      "correct=male     guess=female   name=Barth                         \n",
      "correct=male     guess=female   name=Bary                          \n",
      "correct=male     guess=female   name=Benjie                        \n",
      "correct=male     guess=female   name=Berkeley                      \n",
      "correct=male     guess=female   name=Bruce                         \n",
      "correct=male     guess=female   name=Christophe                    \n",
      "correct=male     guess=female   name=Christy                       \n",
      "correct=male     guess=female   name=Dory                          \n",
      "correct=male     guess=female   name=Drake                         \n",
      "correct=male     guess=female   name=Dryke                         \n",
      "correct=male     guess=female   name=Duke                          \n",
      "correct=male     guess=female   name=Elmore                        \n",
      "correct=male     guess=female   name=Emile                         \n",
      "correct=male     guess=female   name=Garvey                        \n",
      "correct=male     guess=female   name=Hadleigh                      \n",
      "correct=male     guess=female   name=Hasty                         \n",
      "correct=male     guess=female   name=Hirsch                        \n",
      "correct=male     guess=female   name=Jay                           \n",
      "correct=male     guess=female   name=Jereme                        \n",
      "correct=male     guess=female   name=Jeremiah                      \n",
      "correct=male     guess=female   name=Johny                         \n",
      "correct=male     guess=female   name=Juanita                       \n",
      "correct=male     guess=female   name=Judah                         \n",
      "correct=male     guess=female   name=Keefe                         \n",
      "correct=male     guess=female   name=Kingsley                      \n",
      "correct=male     guess=female   name=Kingsly                       \n",
      "correct=male     guess=female   name=Kirby                         \n",
      "correct=male     guess=female   name=Klee                          \n",
      "correct=male     guess=female   name=Lex                           \n",
      "correct=male     guess=female   name=Maddie                        \n",
      "correct=male     guess=female   name=Manny                         \n",
      "correct=male     guess=female   name=Matty                         \n",
      "correct=male     guess=female   name=Mendie                        \n",
      "correct=male     guess=female   name=Meredith                      \n",
      "correct=male     guess=female   name=Monte                         \n",
      "correct=male     guess=female   name=Nate                          \n",
      "correct=male     guess=female   name=Neddy                         \n",
      "correct=male     guess=female   name=Noble                         \n",
      "correct=male     guess=female   name=Osbourne                      \n",
      "correct=male     guess=female   name=Reece                         \n",
      "correct=male     guess=female   name=Ritch                         \n",
      "correct=male     guess=female   name=Sherlocke                     \n",
      "correct=male     guess=female   name=Terence                       \n",
      "correct=male     guess=female   name=Tray                          \n",
      "correct=male     guess=female   name=Uri                           \n",
      "correct=male     guess=female   name=Vassily                       \n",
      "correct=male     guess=female   name=Verge                         \n",
      "correct=male     guess=female   name=Wallace                       \n",
      "correct=male     guess=female   name=Willey                        \n",
      "correct=male     guess=female   name=Winnie                        \n",
      "correct=male     guess=female   name=Witty                         \n",
      "correct=male     guess=female   name=Yardley                       \n",
      "correct=male     guess=female   name=Yuri                          \n",
      "correct=male     guess=female   name=Zachariah                     \n"
     ]
    }
   ],
   "source": [
    "# define a function to print the errors\n",
    "def printerrors(errors):\n",
    "    for (tag, guess, name) in sorted(errors):\n",
    "        print('correct={:<8s} guess={:<8s} name={:<30s}'.format(tag, guess, name))\n",
    "\n",
    "printerrors(errors)"
   ]
  },
  {
   "cell_type": "code",
   "execution_count": 22,
   "metadata": {},
   "outputs": [
    {
     "name": "stdout",
     "output_type": "stream",
     "text": [
      "['female', 'female', 'male', 'male', 'female', 'male', 'female', 'female', 'female', 'female', 'female', 'male', 'male', 'male', 'female', 'male', 'male', 'male', 'female', 'female', 'female', 'male', 'female', 'female', 'female', 'female', 'male', 'female', 'male', 'male']\n",
      "['male', 'male', 'male', 'male', 'female', 'female', 'female', 'female', 'male', 'female', 'female', 'male', 'female', 'male', 'female', 'female', 'male', 'female', 'female', 'female', 'female', 'male', 'male', 'female', 'female', 'male', 'female', 'male', 'female', 'female']\n"
     ]
    }
   ],
   "source": [
    "# evaluation measures showing performance of classifier\n",
    "\n",
    "from nltk.metrics import *\n",
    "\n",
    "reflist = []\n",
    "testlist = []\n",
    "for (features, label) in test_set:\n",
    "    reflist.append(label)\n",
    "    testlist.append(classifier.classify(features))\n",
    "\n",
    "print(reflist[:30])\n",
    "print(testlist[:30])"
   ]
  },
  {
   "cell_type": "code",
   "execution_count": 23,
   "metadata": {},
   "outputs": [
    {
     "name": "stdout",
     "output_type": "stream",
     "text": [
      "       |   f     |\n",
      "       |   e     |\n",
      "       |   m   m |\n",
      "       |   a   a |\n",
      "       |   l   l |\n",
      "       |   e   e |\n",
      "-------+---------+\n",
      "female |<255> 51 |\n",
      "  male |  62<132>|\n",
      "-------+---------+\n",
      "(row = reference; col = test)\n",
      "\n"
     ]
    }
   ],
   "source": [
    "# Confusion matrix gives true positives, false negatives, false positives, and true negatives\n",
    "#   where we interpret female as \"yes\" and male as \"no\"\n",
    "cm = ConfusionMatrix(reflist, testlist)\n",
    "print(cm)"
   ]
  },
  {
   "cell_type": "code",
   "execution_count": 25,
   "metadata": {},
   "outputs": [
    {
     "name": "stdout",
     "output_type": "stream",
     "text": [
      "{0, 1, 4, 6, 7, 8, 9, 10, 14, 18, 19, 20, 22, 23, 24, 25, 27, 32, 33, 35, 36, 38, 39, 42, 44, 46, 47, 48, 51, 53, 54, 55, 56, 57, 59, 60, 61, 65, 66, 67, 68, 70, 71, 72, 73, 74, 75, 77, 78, 79, 83, 84, 85, 88, 90, 92, 94, 96, 97, 99, 101, 102, 103, 104, 105, 106, 107, 113, 115, 116, 117, 122, 124, 125, 126, 128, 130, 132, 133, 135, 136, 138, 140, 142, 143, 144, 145, 146, 148, 150, 151, 152, 154, 158, 161, 162, 163, 164, 165, 169, 173, 175, 177, 179, 180, 182, 183, 184, 186, 189, 191, 193, 195, 196, 197, 198, 200, 201, 202, 203, 204, 205, 206, 208, 209, 212, 213, 214, 215, 218, 219, 220, 222, 223, 224, 225, 226, 227, 229, 231, 233, 234, 236, 241, 243, 247, 248, 250, 251, 252, 254, 255, 256, 258, 260, 261, 263, 264, 265, 268, 269, 270, 276, 277, 278, 279, 280, 281, 282, 284, 285, 287, 288, 289, 290, 292, 293, 295, 300, 304, 306, 307, 308, 310, 311, 313, 314, 316, 317, 318, 319, 322, 323, 324, 327, 329, 330, 331, 332, 338, 339, 341, 345, 347, 348, 349, 350, 351, 354, 357, 358, 359, 361, 362, 363, 365, 368, 369, 370, 371, 372, 373, 375, 376, 377, 379, 380, 382, 385, 386, 387, 388, 389, 390, 392, 393, 394, 395, 396, 398, 400, 401, 402, 405, 406, 408, 410, 411, 412, 413, 414, 415, 416, 417, 418, 421, 422, 423, 424, 425, 426, 427, 428, 429, 431, 434, 438, 439, 440, 441, 443, 444, 445, 446, 447, 450, 453, 454, 455, 457, 458, 460, 463, 464, 465, 467, 470, 471, 472, 474, 476, 478, 479, 481, 482, 486, 487, 488, 489, 490, 491, 492, 494, 496, 498, 499}\n"
     ]
    }
   ],
   "source": [
    "# define a set of item identifiers that are gold labels and a set of item identifiers that are predicted labels\n",
    "# this uses index numbers for the labels\n",
    "\n",
    "reffemale = set([i for i,label in enumerate(reflist) if label == 'female'])\n",
    "refmale = set([i for i,label in enumerate(reflist) if label == 'male'])\n",
    "testfemale = set([i for i,label in enumerate(testlist) if label == 'female'])\n",
    "testmale = set([i for i,label in enumerate(testlist) if label == 'male'])\n",
    "\n",
    "print(reffemale)"
   ]
  },
  {
   "cell_type": "code",
   "execution_count": 26,
   "metadata": {},
   "outputs": [
    {
     "name": "stdout",
     "output_type": "stream",
     "text": [
      "female precision: 0.804416403785489\n",
      "female recall: 0.8333333333333334\n",
      "female F-measure: 0.8186195826645264\n",
      "male precision: 0.7213114754098361\n",
      "male recall: 0.6804123711340206\n",
      "male F-measure: 0.7002652519893899\n"
     ]
    }
   ],
   "source": [
    "# compute precision, recall and F-measure for each label\n",
    "\n",
    "def printmeasures(label, refset, testset):\n",
    "    print(label, 'precision:', precision(refset, testset))\n",
    "    print(label, 'recall:', recall(refset, testset)) \n",
    "    print(label, 'F-measure:', f_measure(refset, testset))\n",
    "\n",
    "printmeasures('female', reffemale, testfemale)\n",
    "printmeasures('male', refmale, testmale)"
   ]
  },
  {
   "cell_type": "code",
   "execution_count": 27,
   "metadata": {},
   "outputs": [
    {
     "name": "stdout",
     "output_type": "stream",
     "text": [
      "{'suffix1': 'k', 'suffix2': 'e'}\n"
     ]
    }
   ],
   "source": [
    "# another feature extraction function for the exercise\n",
    "def gender_features3(word):\n",
    "    return {'suffix1': word[-1],'suffix2': word[-2]}\n",
    "\n",
    "print(gender_features3('Shrek'))"
   ]
  },
  {
   "cell_type": "code",
   "execution_count": null,
   "metadata": {
    "collapsed": true
   },
   "outputs": [],
   "source": []
  }
 ],
 "metadata": {
  "kernelspec": {
   "display_name": "Python 3",
   "language": "python",
   "name": "python3"
  },
  "language_info": {
   "codemirror_mode": {
    "name": "ipython",
    "version": 3
   },
   "file_extension": ".py",
   "mimetype": "text/x-python",
   "name": "python",
   "nbconvert_exporter": "python",
   "pygments_lexer": "ipython3",
   "version": "3.6.1"
  }
 },
 "nbformat": 4,
 "nbformat_minor": 2
}
