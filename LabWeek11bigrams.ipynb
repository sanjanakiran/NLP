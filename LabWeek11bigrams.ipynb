{
 "cells": [
  {
   "cell_type": "code",
   "execution_count": 1,
   "metadata": {
    "collapsed": true
   },
   "outputs": [],
   "source": [
    "import nltk\n",
    "# movie review sentences\n",
    "from nltk.corpus import sentence_polarity\n",
    "import random"
   ]
  },
  {
   "cell_type": "code",
   "execution_count": 2,
   "metadata": {
    "collapsed": true
   },
   "outputs": [],
   "source": [
    "## repeat the setup of the movie review sentences for classification\n",
    "# for each sentence(document), get its words and category (positive/negative)\n",
    "documents = [(sent, cat) for cat in sentence_polarity.categories() \n",
    "    for sent in sentence_polarity.sents(categories=cat)]\n",
    "random.shuffle(documents)"
   ]
  },
  {
   "cell_type": "code",
   "execution_count": 3,
   "metadata": {},
   "outputs": [
    {
     "name": "stdout",
     "output_type": "stream",
     "text": [
      "21401\n"
     ]
    }
   ],
   "source": [
    "# get all words from all movie_reviews and put into a frequency distribution\n",
    "#   note lowercase, but no stemming or stopwords\n",
    "all_words_list = [word for (sent,cat) in documents for word in sent]\n",
    "all_words = nltk.FreqDist(all_words_list)\n",
    "print(len(all_words))"
   ]
  },
  {
   "cell_type": "code",
   "execution_count": 4,
   "metadata": {
    "collapsed": true
   },
   "outputs": [],
   "source": [
    "# get the 1500 most frequently appearing keywords in the corpus\n",
    "word_items = all_words.most_common(1500)\n",
    "word_features = [word for (word,count) in word_items]"
   ]
  },
  {
   "cell_type": "code",
   "execution_count": 5,
   "metadata": {
    "collapsed": true
   },
   "outputs": [],
   "source": [
    "# define features (keywords) of a document for a BOW/unigram baseline\n",
    "# each feature is 'contains(keyword)' and is true or false depending\n",
    "# on whether that keyword is in the document\n",
    "def document_features(document, word_features):\n",
    "    document_words = set(document)\n",
    "    features = {}\n",
    "    for word in word_features:\n",
    "        features['contains({})'.format(word)] = (word in document_words)\n",
    "    return features"
   ]
  },
  {
   "cell_type": "code",
   "execution_count": 6,
   "metadata": {},
   "outputs": [
    {
     "data": {
      "text/plain": [
       "0.745"
      ]
     },
     "execution_count": 6,
     "metadata": {},
     "output_type": "execute_result"
    }
   ],
   "source": [
    "# get features sets for a document, including keyword features and category feature\n",
    "featuresets = [(document_features(d, word_features), c) for (d, c) in documents]\n",
    "\n",
    "# training using naive Baysian classifier, training set is 90% of data\n",
    "train_set, test_set = featuresets[1000:], featuresets[:1000]\n",
    "classifier = nltk.NaiveBayesClassifier.train(train_set)\n",
    "\n",
    "# evaluate the accuracy of the classifier\n",
    "nltk.classify.accuracy(classifier, test_set)"
   ]
  },
  {
   "cell_type": "code",
   "execution_count": 8,
   "metadata": {
    "collapsed": true
   },
   "outputs": [],
   "source": [
    "####   adding Bigram features   ####\n",
    "# set up for using bigrams\n",
    "from nltk.collocations import *\n",
    "bigram_measures = nltk.collocations.BigramAssocMeasures()"
   ]
  },
  {
   "cell_type": "code",
   "execution_count": 10,
   "metadata": {},
   "outputs": [
    {
     "name": "stdout",
     "output_type": "stream",
     "text": [
      "['the', \"film's\", 'center', 'will', 'not', 'hold', '.', 'the', 'film', 'has', 'a', 'nearly', 'terminal', 'case', 'of', 'the', 'cutes', ',', 'and', \"it's\", 'neither', 'as', 'funny', 'nor', 'as', 'charming', 'as', 'it', 'thinks', 'it', 'is', '.', 'if', \"sinise's\", 'character', 'had', 'a', 'brain', 'his', 'ordeal', 'would', 'be', 'over', 'in', 'five', 'minutes', 'but', 'instead', 'the', 'plot']\n"
     ]
    }
   ],
   "source": [
    "# create the bigram finder on all the words in sequence\n",
    "print(all_words_list[:50])\n",
    "finder = BigramCollocationFinder.from_words(all_words_list)"
   ]
  },
  {
   "cell_type": "code",
   "execution_count": 18,
   "metadata": {},
   "outputs": [
    {
     "name": "stdout",
     "output_type": "stream",
     "text": [
      "[('.', '.'), ('.', 'the'), ('.', 'a'), ('of', 'the'), (',', 'but'), (',', 'and'), ('in', 'the'), ('the', 'film'), ('is', 'a'), ('.', \"it's\"), (',', 'the'), ('of', 'a'), ('to', 'the'), ('and', 'the'), ('to', 'be'), ('the', 'movie'), ('.', 'it'), ('.', 'this'), ('for', 'the'), ('it', 'is'), ('with', 'a'), ('.', 'an'), ('as', 'a'), ('in', 'a'), ('on', 'the'), ('one', 'of'), ('and', 'a'), ('this', 'is'), ('a', 'movie'), (\"it's\", 'a'), (',', 'it'), ('.', 'if'), ('with', 'the'), ('film', 'is'), ('like', 'a'), (',', 'a'), ('for', 'a'), ('it', '.'), ('the', 'most'), ('.', 'but'), ('but', 'it'), ('film', '.'), ('of', 'its'), ('movie', '.'), (',', \"it's\"), (',', 'this'), ('a', 'film'), ('as', 'the'), ('.', 'i'), ('from', 'the')]\n"
     ]
    }
   ],
   "source": [
    "# define the top 500 bigrams using the chi squared measure\n",
    "bigram_features = finder.nbest(bigram_measures.raw_freq, 500)\n",
    "print(bigram_features[:50])"
   ]
  },
  {
   "cell_type": "code",
   "execution_count": 12,
   "metadata": {},
   "outputs": [
    {
     "name": "stdout",
     "output_type": "stream",
     "text": [
      "[('Arthur', 'carefully'), ('carefully', 'rode'), ('rode', 'the'), ('the', 'brown'), ('brown', 'horse'), ('horse', 'around'), ('around', 'the'), ('the', 'castle')]\n"
     ]
    }
   ],
   "source": [
    "# examples to demonstrate the bigram feature function definition\n",
    "sent = ['Arthur','carefully','rode','the','brown','horse','around','the','castle']\n",
    "sentbigrams = list(nltk.bigrams(sent))\n",
    "print(sentbigrams)"
   ]
  },
  {
   "cell_type": "code",
   "execution_count": 13,
   "metadata": {},
   "outputs": [
    {
     "name": "stdout",
     "output_type": "stream",
     "text": [
      "True\n",
      "bigram(brown horse)\n"
     ]
    }
   ],
   "source": [
    "# for a single bigram, test if it's in the sentence bigrams and format the feature name\n",
    "bigram = ('brown','horse')\n",
    "print(bigram in sentbigrams)\n",
    "print('bigram({} {})'.format(bigram[0], bigram[1]))"
   ]
  },
  {
   "cell_type": "code",
   "execution_count": 14,
   "metadata": {
    "collapsed": true
   },
   "outputs": [],
   "source": [
    "# define features that include words as before \n",
    "# add the most frequent significant bigrams\n",
    "# this function takes the list of words in a document as an argument and returns a feature dictionary\n",
    "# it depends on the variables word_features and bigram_features\n",
    "def bigram_document_features(document, word_features, bigram_features):\n",
    "    document_words = set(document)\n",
    "    document_bigrams = nltk.bigrams(document)\n",
    "    features = {}\n",
    "    for word in word_features:\n",
    "        features['contains({})'.format(word)] = (word in document_words)\n",
    "    for bigram in bigram_features:\n",
    "        features['bigram({} {})'.format(bigram[0], bigram[1])] = (bigram in document_bigrams)    \n",
    "    return features"
   ]
  },
  {
   "cell_type": "code",
   "execution_count": 19,
   "metadata": {},
   "outputs": [
    {
     "name": "stdout",
     "output_type": "stream",
     "text": [
      "2000\n",
      "{'contains(.)': True, 'contains(the)': True, 'contains(,)': False, 'contains(a)': False, 'contains(and)': False, 'contains(of)': False, 'contains(to)': False, 'contains(is)': False, 'contains(in)': False, 'contains(that)': False, 'contains(it)': False, 'contains(as)': False, 'contains(but)': False, 'contains(with)': False, 'contains(film)': False, 'contains(this)': False, 'contains(for)': False, 'contains(its)': False, 'contains(an)': False, 'contains(movie)': False, \"contains(it's)\": False, 'contains(be)': False, 'contains(on)': False, 'contains(you)': False, 'contains(not)': True, 'contains(by)': False, 'contains(about)': False, 'contains(one)': False, 'contains(more)': False, 'contains(like)': False, 'contains(has)': False, 'contains(are)': False, 'contains(at)': False, 'contains(from)': False, 'contains(than)': False, 'contains(\")': False, 'contains(all)': False, 'contains(--)': False, 'contains(his)': False, 'contains(have)': False, 'contains(so)': False, 'contains(if)': False, 'contains(or)': False, 'contains(story)': False, 'contains(i)': False, 'contains(too)': False, 'contains(just)': False, 'contains(who)': False, 'contains(into)': False, 'contains(what)': False, 'contains(most)': False, 'contains(out)': False, 'contains(no)': False, 'contains(much)': False, 'contains(even)': False, 'contains(good)': False, 'contains(up)': False, 'contains(will)': True, 'contains(comedy)': False, 'contains(time)': False, 'contains(can)': False, 'contains(some)': False, 'contains(characters)': False, 'contains(only)': False, 'contains(little)': False, 'contains(way)': False, 'contains(their)': False, 'contains(funny)': False, 'contains(make)': False, 'contains(enough)': False, 'contains(been)': False, 'contains(very)': False, 'contains(your)': False, 'contains(never)': False, 'contains(when)': False, 'contains(makes)': False, 'contains(there)': False, 'contains(may)': False, 'contains(which)': False, 'contains(us)': False, 'contains(work)': False, 'contains(best)': False, 'contains(he)': False, 'contains(bad)': False, 'contains(director)': False, \"contains(doesn't)\": False, 'contains())': False, 'contains(any)': False, 'contains(?)': False, 'contains(()': False, 'contains(love)': False, 'contains(would)': False, 'contains(life)': False, 'contains(they)': False, 'contains(while)': False, 'contains(we)': False, 'contains(:)': False, 'contains(was)': False, \"contains(there's)\": False, 'contains(movies)': False, 'contains(new)': False, 'contains(well)': False, 'contains(her)': False, 'contains(through)': False, 'contains(could)': False, 'contains(something)': False, 'contains(really)': False, 'contains(how)': False, 'contains(made)': False, 'contains(them)': False, 'contains(does)': False, 'contains(performances)': False, 'contains(own)': False, 'contains(drama)': False, \"contains(that's)\": False, 'contains(should)': False, 'contains(many)': False, 'contains(those)': False, 'contains(plot)': False, 'contains(look)': False, 'contains(films)': False, 'contains(see)': False, 'contains(still)': False, 'contains(every)': False, \"contains(isn't)\": False, 'contains(two)': False, 'contains(nothing)': False, 'contains(people)': False, 'contains(better)': False, 'contains(long)': False, 'contains(without)': False, 'contains(other)': False, 'contains(fun)': False, 'contains(off)': False, 'contains(get)': False, 'contains(action)': False, 'contains(being)': False, 'contains(both)': False, 'contains(great)': False, 'contains(though)': False, 'contains(might)': False, 'contains(big)': False, \"contains(')\": False, 'contains(also)': False, 'contains(another)': False, 'contains(cast)': False, 'contains(do)': False, 'contains(humor)': False, 'contains(audience)': False, 'contains(between)': False, 'contains(first)': False, 'contains(kind)': False, 'contains(sense)': False, 'contains(over)': False, 'contains(such)': False, 'contains(character)': False, 'contains(ever)': False, \"contains(don't)\": False, 'contains(feels)': False, 'contains(;)': False, 'contains(performance)': False, 'contains(few)': False, 'contains(script)': False, 'contains(because)': False, \"contains(film's)\": True, 'contains(here)': False, 'contains(far)': False, 'contains(often)': False, 'contains(less)': False, 'contains(thing)': False, 'contains(seems)': False, 'contains(minutes)': False, 'contains(real)': False, 'contains(feel)': False, 'contains(thriller)': False, 'contains(picture)': False, 'contains(world)': False, 'contains(tale)': False, 'contains(almost)': False, \"contains(can't)\": False, 'contains(down)': False, 'contains(quite)': False, 'contains(documentary)': False, 'contains(interesting)': False, 'contains(yet)': False, 'contains(!)': False, 'contains(entertaining)': False, 'contains(these)': False, 'contains(my)': False, 'contains(rather)': False, \"contains(you're)\": False, 'contains(screen)': False, 'contains(end)': False, 'contains(itself)': False, 'contains(seen)': False, 'contains(hollywood)': False, 'contains(watching)': False, 'contains(full)': False, 'contains(take)': False, 'contains(hard)': False, 'contains(ultimately)': False, 'contains(go)': False, 'contains(heart)': False, 'contains(moments)': False, 'contains(romantic)': False, 'contains(comes)': False, 'contains(de)': False, 'contains(despite)': False, 'contains(lot)': False, 'contains(american)': False, 'contains(were)': False, 'contains(after)': False, 'contains(me)': False, 'contains(where)': False, 'contains(before)': False, 'contains(family)': False, 'contains(acting)': False, 'contains(had)': False, 'contains(old)': False, 'contains(original)': False, 'contains(then)': False, 'contains(find)': False, 'contains(right)': False, 'contains(human)': False, 'contains(gets)': False, 'contains(worth)': False, 'contains(same)': False, 'contains(takes)': False, 'contains(come)': False, 'contains(things)': False, 'contains(times)': False, 'contains(dialogue)': False, 'contains(back)': False, 'contains(actors)': False, 'contains(watch)': False, 'contains(scenes)': False, 'contains(man)': False, 'contains(our)': False, 'contains(material)': False, 'contains(compelling)': False, 'contains(young)': False, 'contains(once)': False, 'contains(music)': False, 'contains(works)': False, 'contains(years)': False, 'contains(think)': False, 'contains(emotional)': False, 'contains(anyone)': False, 'contains(seem)': False, 'contains(want)': False, 'contains(gives)': False, 'contains(least)': False, 'contains(going)': False, 'contains(know)': False, 'contains(say)': False, 'contains(part)': False, 'contains(sometimes)': False, 'contains(again)': False, 'contains(piece)': False, 'contains(cinematic)': False, 'contains(entertainment)': False, 'contains(last)': False, 'contains(subject)': False, 'contains(pretty)': False, 'contains(give)': False, 'contains(point)': False, \"contains(you'll)\": False, 'contains(kids)': False, 'contains(making)': False, 'contains(keep)': False, 'contains(bit)': False, 'contains(special)': False, 'contains(dull)': False, 'contains(fascinating)': False, 'contains(together)': False, 'contains(cinema)': False, 'contains(whole)': False, 'contains(why)': False, 'contains(fans)': False, 'contains(anything)': False, 'contains(year)': False, 'contains(-)': False, 'contains(since)': False, 'contains(away)': False, 'contains(moving)': False, 'contains(style)': False, 'contains(manages)': False, 'contains(need)': False, 'contains(star)': False, 'contains(laughs)': False, 'contains(true)': False, 'contains(show)': False, 'contains(experience)': False, 'contains(always)': False, 'contains(history)': False, 'contains(offers)': False, 'contains(sweet)': False, 'contains(clever)': False, 'contains(direction)': False, 'contains(mr)': False, 'contains(simply)': False, 'contains(high)': False, 'contains(instead)': False, 'contains(dark)': False, 'contains(silly)': False, 'contains(him)': False, 'contains(whose)': False, 'contains(predictable)': False, 'contains(charm)': False, 'contains(actually)': False, 'contains(care)': False, 'contains(nearly)': False, 'contains(everything)': False, 'contains(art)': False, 'contains(flick)': False, 'contains(visual)': False, 'contains(around)': False, 'contains(matter)': False, 'contains(title)': False, 'contains(series)': False, 'contains(video)': False, 'contains(comic)': False, 'contains(place)': False, 'contains(idea)': False, 'contains(narrative)': False, \"contains(he's)\": False, 'contains(goes)': False, 'contains(war)': False, 'contains(short)': False, 'contains(screenplay)': False, 'contains(trying)': False, 'contains(done)': False, 'contains(genre)': False, 'contains(now)': False, 'contains(probably)': False, 'contains(women)': False, 'contains(under)': False, 'contains(premise)': False, 'contains(plays)': False, \"contains(movie's)\": False, 'contains(familiar)': False, 'contains(turns)': False, 'contains(horror)': False, 'contains(enjoyable)': False, 'contains(set)': False, 'contains(lacks)': False, 'contains(filmmakers)': False, 'contains(home)': False, 'contains(becomes)': False, 'contains(although)': False, 'contains(engaging)': False, 'contains(three)': False, 'contains(she)': False, 'contains(worst)': False, 'contains(smart)': False, 'contains(feature)': False, 'contains(feeling)': False, \"contains(won't)\": False, 'contains(enjoy)': False, 'contains(power)': False, 'contains(effects)': False, 'contains(charming)': False, 'contains(especially)': False, 'contains(day)': False, 'contains(strong)': False, 'contains(amusing)': False, 'contains(half)': False, 'contains(ending)': False, 'contains(study)': False, 'contains(intelligent)': False, 'contains(effort)': False, 'contains(boring)': False, 'contains(lack)': False, 'contains(debut)': False, 'contains(theater)': False, 'contains(likely)': False, 'contains(each)': False, 'contains(men)': False, 'contains(john)': False, 'contains(portrait)': False, 'contains(romance)': False, 'contains(mostly)': False, 'contains(version)': False, 'contains(sort)': False, 'contains(put)': False, 'contains(certainly)': False, \"contains(what's)\": False, 'contains(beautiful)': False, 'contains(else)': False, 'contains(problem)': False, 'contains(become)': False, 'contains(message)': False, 'contains(next)': False, \"contains(you've)\": False, 'contains(looking)': False, 'contains(level)': False, 'contains(surprisingly)': False, 'contains(beautifully)': False, 'contains(easy)': False, 'contains(exercise)': False, 'contains(along)': False, 'contains(hours)': False, 'contains(rare)': False, 'contains(fine)': False, 'contains(solid)': False, 'contains(wit)': False, 'contains(lives)': False, 'contains(mind)': False, 'contains(quirky)': False, 'contains(play)': False, 'contains(fresh)': False, 'contains(directed)': False, 'contains(mess)': False, 'contains(leave)': False, 'contains(ideas)': False, 'contains(face)': False, 'contains(obvious)': False, 'contains(whether)': False, 'contains(looks)': False, 'contains(sure)': False, 'contains(modern)': False, 'contains(interest)': False, 'contains(either)': False, 'contains(energy)': False, 'contains(past)': False, 'contains(french)': False, 'contains(powerful)': False, 'contains(completely)': False, 'contains(neither)': False, 'contains(classic)': False, 'contains(reason)': False, 'contains(fact)': False, 'contains(dramatic)': False, 'contains(shot)': False, 'contains(viewers)': False, 'contains(beyond)': False, 'contains(melodrama)': False, 'contains(stuff)': False, 'contains(shows)': False, 'contains(recent)': False, 'contains(delivers)': False, 'contains(suspense)': False, 'contains(tone)': False, 'contains(filmmaking)': False, 'contains(fails)': False, \"contains(didn't)\": False, 'contains(children)': False, 'contains(deeply)': False, 'contains(slow)': False, 'contains(intriguing)': False, 'contains(truly)': False, 'contains(culture)': False, 'contains(believe)': False, 'contains(left)': False, \"contains(i'm)\": False, 'contains(everyone)': False, 'contains(serious)': False, 'contains(actor)': False, 'contains(ends)': False, 'contains(jokes)': False, 'contains(himself)': False, 'contains(death)': False, 'contains(book)': False, 'contains(tries)': False, 'contains(ride)': False, 'contains(black)': False, 'contains(sad)': False, 'contains(small)': False, 'contains(light)': False, 'contains(occasionally)': False, 'contains(spirit)': False, 'contains(audiences)': False, 'contains(touching)': False, 'contains(production)': False, 'contains(tv)': False, 'contains(satisfying)': False, 'contains(remains)': False, 'contains(terrific)': False, 'contains(reality)': False, 'contains(formula)': False, 'contains(hilarious)': False, 'contains(dumb)': False, 'contains(opera)': False, 'contains(exactly)': False, 'contains(role)': False, 'contains(adventure)': False, 'contains(passion)': False, 'contains(storytelling)': False, 'contains(proves)': False, 'contains(camera)': False, 'contains(nor)': False, 'contains(project)': False, 'contains(already)': False, 'contains(stories)': False, 'contains(must)': False, 'contains(line)': False, 'contains(filmmaker)': False, 'contains(got)': False, 'contains(impossible)': False, 'contains(different)': False, 'contains(images)': False, 'contains(seeing)': False, 'contains(scene)': False, 'contains(talent)': False, 'contains(personal)': False, 'contains(simple)': False, 'contains(girl)': False, 'contains(perfect)': False, 'contains(journey)': False, 'contains(above)': False, 'contains(gags)': False, 'contains(easily)': False, 'contains(particularly)': False, 'contains(attempt)': False, 'contains(given)': False, 'contains(pleasure)': False, 'contains(close)': False, 'contains(summer)': False, 'contains(pretentious)': False, 'contains(turn)': False, 'contains(against)': False, 'contains(complex)': False, 'contains(honest)': False, 'contains(sex)': False, 'contains(psychological)': False, 'contains(animation)': False, 'contains(case)': False, 'contains(flat)': False, 'contains(falls)': False, 'contains(did)': False, 'contains(earnest)': False, 'contains(ways)': False, 'contains(difficult)': False, 'contains(intelligence)': False, 'contains(found)': False, 'contains(hour)': False, 'contains(michael)': False, 'contains(visually)': False, 'contains(mystery)': False, 'contains(sequel)': False, 'contains(thought)': False, 'contains(coming-of-age)': False, 'contains(social)': False, 'contains(getting)': False, 'contains(political)': False, 'contains(leaves)': False, 'contains(cliches)': False, 'contains(head)': False, 'contains(memorable)': False, 'contains(written)': False, 'contains(game)': False, 'contains(writing)': False, 'contains(crime)': False, 'contains(uses)': False, 'contains(tell)': False, 'contains(que)': False, 'contains(none)': False, 'contains(violence)': False, 'contains(laugh)': False, 'contains(gone)': False, 'contains(overall)': False, 'contains(keeps)': False, 'contains(side)': False, 'contains(rich)': False, 'contains(help)': False, 'contains(finally)': False, 'contains(job)': False, 'contains(wrong)': False, 'contains(live)': False, 'contains(told)': False, 'contains(satire)': False, 'contains(brilliant)': False, 'contains(contrived)': False, 'contains(lost)': False, 'contains(elements)': False, 'contains(barely)': False, 'contains(second)': False, 'contains(spy)': False, 'contains(cold)': False, 'contains(needs)': False, 'contains(otherwise)': False, 'contains(boy)': False, 'contains(novel)': False, 'contains(days)': False, 'contains(rarely)': False, 'contains(cool)': False, 'contains(during)': False, 'contains(several)': False, 'contains(guys)': False, 'contains(imagine)': False, 'contains(approach)': False, 'contains(entirely)': False, 'contains(acted)': False, 'contains(thoughtful)': False, 'contains(having)': False, 'contains(appeal)': False, 'contains(nature)': False, 'contains(o)': False, 'contains(final)': False, 'contains(possible)': False, 'contains(taste)': False, 'contains(starts)': False, 'contains(insight)': False, 'contains(warm)': False, 'contains(surprising)': False, 'contains(creepy)': False, 'contains(lead)': False, 'contains(running)': False, 'contains(eyes)': False, 'contains(mood)': False, 'contains(truth)': False, 'contains(perhaps)': False, 'contains(fairly)': False, 'contains(concept)': False, 'contains(y)': False, 'contains(moral)': False, 'contains(act)': False, 'contains(tragedy)': False, 'contains(excellent)': False, 'contains(wonderful)': False, 'contains(soap)': False, 'contains(wild)': False, 'contains(engrossing)': False, 'contains(themselves)': False, 'contains(emotionally)': False, 'contains(comedies)': False, 'contains(imagination)': False, 'contains(result)': False, 'contains(form)': False, \"contains(they're)\": False, 'contains(behind)': False, 'contains(remarkable)': False, 'contains(quality)': False, 'contains(thoroughly)': False, 'contains(viewer)': False, 'contains(others)': False, 'contains(among)': False, 'contains(hero)': False, 'contains(tedious)': False, 'contains(call)': False, 'contains(entire)': False, 'contains(david)': False, 'contains(bring)': False, 'contains(adults)': False, 'contains(expect)': False, 'contains(attention)': False, 'contains(teen)': False, 'contains(remake)': False, 'contains(witty)': False, 'contains(disney)': False, 'contains(future)': False, 'contains(gorgeous)': False, 'contains(change)': False, 'contains(rock)': False, 'contains(perfectly)': False, 'contains(bland)': False, 'contains(tired)': False, 'contains(add)': False, 'contains(genuine)': False, \"contains(you'd)\": False, 'contains(adaptation)': False, 'contains(strange)': False, 'contains(\\x96)': False, \"contains(i've)\": False, 'contains(four)': False, 'contains(moment)': False, 'contains(la)': False, 'contains(sci-fi)': False, 'contains(start)': False, 'contains(knows)': False, 'contains(quiet)': False, 'contains(epic)': False, 'contains(latest)': False, 'contains(sharp)': False, 'contains(animated)': False, 'contains(usual)': False, 'contains(vision)': False, 'contains(nice)': False, 'contains(events)': False, 'contains(dead)': False, 'contains(gentle)': False, 'contains(hope)': False, 'contains(begins)': False, 'contains(parents)': False, 'contains(impressive)': False, 'contains(worthy)': False, 'contains(somewhat)': False, 'contains(appealing)': False, 'contains(effective)': False, 'contains(thanks)': False, 'contains(beauty)': False, 'contains(worse)': False, 'contains(period)': False, 'contains(taking)': False, 'contains(offer)': False, 'contains(deep)': False, 'contains(depth)': False, 'contains(plenty)': False, 'contains(until)': False, 'contains(merely)': False, 'contains(maybe)': False, 'contains(points)': False, 'contains(wonder)': False, 'contains(sit)': False, 'contains(pure)': False, 'contains(woman)': False, 'contains(ambitious)': False, 'contains(stupid)': False, 'contains(definitely)': False, 'contains(awful)': False, 'contains(straight)': False, 'contains(important)': False, 'contains(someone)': False, 'contains(surprise)': False, 'contains(career)': False, 'contains(try)': False, 'contains(air)': False, 'contains(captures)': False, 'contains(fantasy)': False, 'contains(emotions)': False, 'contains(age)': False, 'contains(decent)': False, 'contains(however)': False, 'contains(writer-director)': False, 'contains(lots)': False, \"contains(year's)\": False, 'contains(clear)': False, 'contains(provides)': False, 'contains(doing)': False, 'contains(hit)': False, 'contains(guy)': False, 'contains(unfortunately)': False, 'contains(view)': False, 'contains(historical)': False, 'contains(run)': False, 'contains(sound)': False, 'contains(highly)': False, 'contains(welcome)': False, 'contains(throughout)': False, 'contains(scary)': False, 'contains(school)': False, 'contains(pace)': False, 'contains(subtle)': False, 'contains(sequences)': False, 'contains(ii)': False, 'contains(execution)': False, 'contains(magic)': False, 'contains(robert)': False, 'contains(brings)': False, 'contains(exciting)': False, 'contains(pictures)': False, 'contains(suffers)': False, 'contains(able)': False, 'contains(thin)': False, 'contains(utterly)': False, 'contains(ugly)': False, 'contains(inside)': False, 'contains(creative)': False, 'contains(female)': False, 'contains(alone)': False, 'contains(sexual)': False, 'contains(based)': False, 'contains(cheap)': False, 'contains(fire)': False, 'contains(examination)': False, 'contains(process)': False, 'contains(coming)': False, 'contains(read)': False, 'contains(relationship)': False, 'contains(certain)': False, 'contains(lovely)': False, 'contains(provocative)': False, 'contains(ensemble)': False, 'contains(sustain)': False, 'contains(deserves)': False, 'contains(cartoon)': False, 'contains(memory)': False, 'contains(wants)': False, 'contains(quickly)': False, 'contains(across)': False, 'contains(used)': False, 'contains(poignant)': False, 'contains(major)': False, 'contains(cute)': False, 'contains(tension)': False, 'contains(upon)': False, 'contains(deal)': False, 'contains(potential)': False, 'contains(impact)': False, 'contains(felt)': False, 'contains(city)': False, 'contains(delightful)': False, 'contains(single)': False, 'contains(middle)': False, 'contains(low)': False, 'contains(except)': False, 'contains(use)': False, 'contains(question)': False, 'contains(playing)': False, 'contains(hand)': False, 'contains(chemistry)': False, 'contains(words)': False, 'contains(working)': False, 'contains(flaws)': False, 'contains(odd)': False, 'contains(generic)': False, 'contains(lacking)': False, 'contains(bond)': False, 'contains(mediocre)': False, 'contains(loud)': False, 'contains(master)': False, 'contains(unfunny)': False, 'contains(unexpected)': False, 'contains(puts)': False, 'contains(taken)': False, 'contains(2)': False, 'contains(stand)': False, 'contains(situation)': False, 'contains(sentimental)': False, 'contains(cultural)': False, 'contains(rest)': False, 'contains(winning)': False, 'contains(talented)': False, 'contains(creates)': False, 'contains(actress)': False, 'contains(touch)': False, 'contains(success)': False, 'contains(force)': False, 'contains(flawed)': False, 'contains(sensitive)': False, 'contains(yes)': False, 'contains(waste)': False, 'contains(filled)': False, 'contains(murder)': False, 'contains(hold)': True, 'contains(remember)': False, 'contains(saw)': False, 'contains(supposed)': False, 'contains(routine)': False, 'contains(eye)': False, 'contains(hardly)': False, 'contains(class)': False, 'contains(dog)': False, 'contains(watchable)': False, 'contains(melodramatic)': False, 'contains(seriously)': False, 'contains(previous)': False, 'contains(college)': False, 'contains(cannot)': False, 'contains(relationships)': False, 'contains(mildly)': False, 'contains(apart)': False, 'contains(country)': False, 'contains(heavy)': False, 'contains(weird)': False, 'contains(ability)': False, 'contains(reveals)': False, 'contains(formulaic)': False, 'contains(mark)': False, 'contains(extremely)': False, 'contains(slight)': False, 'contains(house)': False, 'contains(surprises)': False, 'contains(convincing)': False, 'contains(unsettling)': False, 'contains(giving)': False, 'contains(issues)': False, 'contains(ultimate)': False, 'contains(era)': False, 'contains(sincere)': False, 'contains(ago)': False, 'contains(cut)': False, 'contains(*)': False, 'contains(hell)': False, 'contains(slightly)': False, 'contains(create)': False, 'contains(five)': False, 'contains(thrills)': False, 'contains(uneven)': False, 'contains(trouble)': False, 'contains(old-fashioned)': False, 'contains(sets)': False, 'contains(stars)': False, 'contains(grant)': False, 'contains(joke)': False, 'contains(gripping)': False, 'contains(plain)': False, 'contains(course)': False, 'contains(episode)': False, 'contains(fully)': False, 'contains(stylish)': False, \"contains(aren't)\": False, 'contains(finds)': False, 'contains(date)': False, 'contains(intimate)': False, 'contains(terms)': False, 'contains(extreme)': False, 'contains(living)': False, 'contains(involved)': False, 'contains(ones)': False, 'contains(inventive)': False, 'contains(treat)': False, 'contains(attempts)': False, 'contains(mix)': False, 'contains(pleasant)': False, 'contains(road)': False, 'contains(forgettable)': False, 'contains(artist)': False, 'contains(casting)': False, 'contains(steven)': False, 'contains(amount)': False, 'contains(leads)': False, 'contains(focus)': False, 'contains(largely)': False, 'contains(george)': False, 'contains(grace)': False, 'contains(succeeds)': False, 'contains(indeed)': False, 'contains(contemporary)': False, 'contains(pacing)': False, 'contains(crazy)': False, 'contains(thinking)': False, 'contains(twists)': False, 'contains(crush)': False, 'contains(pop)': False, 'contains(tragic)': False, 'contains(money)': False, 'contains(e)': False, 'contains(business)': False, \"contains(we've)\": False, 'contains(happens)': False, 'contains(poetry)': False, 'contains(presents)': False, 'contains(problems)': False, 'contains(called)': False, 'contains(painful)': False, 'contains(goofy)': False, 'contains(williams)': False, 'contains(absolutely)': False, 'contains(promise)': False, 'contains(badly)': False, 'contains(appears)': False, 'contains(soundtrack)': False, \"contains(she's)\": False, 'contains(themes)': False, 'contains(colorful)': False, 'contains(unique)': False, 'contains(happy)': False, 'contains(considerable)': False, 'contains(friendship)': False, 'contains(es)': False, 'contains(missing)': False, 'contains(couple)': False, 'contains(involving)': False, 'contains(yourself)': False, 'contains(masterpiece)': False, 'contains(recommend)': False, 'contains(heaven)': False, 'contains(water)': False, 'contains(runs)': False, 'contains(drag)': False, 'contains(substance)': False, 'contains(complete)': False, 'contains(successful)': False, 'contains(york)': False, 'contains(disturbing)': False, 'contains([a])': False, \"contains(man's)\": False, 'contains(urban)': False, 'contains(bright)': False, 'contains(skin)': False, 'contains(british)': False, 'contains(terrible)': False, 'contains(strangely)': False, 'contains(oscar)': False, 'contains(bizarre)': False, 'contains(pieces)': False, 'contains(somehow)': False, 'contains(manner)': False, 'contains(mean)': False, 'contains(forced)': False, 'contains(equally)': False, 'contains(interested)': False, 'contains(forget)': False, 'contains(refreshing)': False, 'contains(loses)': False, 'contains(meditation)': False, 'contains(evil)': False, 'contains(viewing)': False, 'contains(originality)': False, 'contains(politics)': False, 'contains(parts)': False, 'contains(flicks)': False, 'contains(blend)': False, 'contains(effect)': False, 'contains(hits)': False, 'contains(person)': False, 'contains(sentimentality)': False, 'contains(imax)': False, 'contains(gay)': False, \"contains(couldn't)\": False, 'contains(soul)': False, 'contains(played)': False, 'contains(absorbing)': False, 'contains(situations)': False, 'contains(wanted)': False, 'contains(share)': False, 'contains(typical)': False, 'contains(tom)': False, 'contains(triumph)': False, 'contains(target)': False, 'contains(setting)': False, 'contains(means)': False, 'contains(questions)': False, 'contains(lame)': False, 'contains(dry)': False, 'contains(company)': False, 'contains(virtually)': False, 'contains(fan)': False, 'contains(miss)': False, 'contains(monster)': False, 'contains(franchise)': False, 'contains(television)': False, 'contains(liked)': False, 'contains(grief)': False, 'contains(sexy)': False, 'contains(crafted)': False, 'contains(fare)': False, 'contains(whatever)': False, 'contains(night)': False, 'contains(please)': False, 'contains(conflict)': False, 'contains(created)': False, 'contains(eventually)': False, 'contains(battle)': False, 'contains(general)': False, 'contains(frame)': False, 'contains(tells)': False, 'contains(depressing)': False, 'contains(painfully)': False, 'contains(el)': False, 'contains(doubt)': False, 'contains(name)': False, 'contains(report)': False, 'contains(alive)': False, \"contains(director's)\": False, 'contains(said)': False, 'contains(haunting)': False, 'contains(understand)': False, 'contains(poor)': False, 'contains(90)': False, 'contains(central)': False, 'contains(standard)': False, 'contains(energetic)': False, 'contains(somewhere)': False, 'contains(sophisticated)': False, 'contains(well-acted)': False, 'contains(fast)': False, 'contains(twist)': False, 'contains(obviously)': False, 'contains(jackson)': False, 'contains(loss)': False, 'contains(stunning)': False, 'contains(average)': False, 'contains(hate)': False, 'contains(dream)': False, 'contains(clichés)': False, 'contains(derivative)': False, 'contains(word)': False, 'contains(brain)': False, 'contains(worthwhile)': False, 'contains(possibly)': False, 'contains(let)': False, 'contains(tough)': False, 'contains(heavy-handed)': False, 'contains(clearly)': False, 'contains(inspired)': False, 'contains(weak)': False, 'contains(deliver)': False, 'contains(treasure)': False, 'contains(warmth)': False, 'contains(red)': False, 'contains(affecting)': False, 'contains(genuinely)': False, 'contains(popcorn)': False, 'contains(fat)': False, 'contains(wedding)': False, 'contains(white)': False, 'contains(match)': False, 'contains(lines)': False, 'contains(ms)': False, 'contains(essentially)': False, 'contains(insightful)': False, 'contains(finish)': False, 'contains(faith)': False, 'contains(price)': False, 'contains(atmosphere)': False, 'contains(break)': False, 'contains(vivid)': False, 'contains(refreshingly)': False, 'contains(superficial)': False, 'contains(room)': False, 'contains(boys)': False, 'contains(allows)': False, 'contains(sitting)': False, 'contains(imaginative)': False, 'contains(huge)': False, 'contains(slapstick)': False, 'contains(amazing)': False, 'contains(unlike)': False, 'contains(blue)': False, 'contains(places)': False, 'contains(conventional)': False, 'contains(edge)': False, 'contains(toward)': False, 'contains(footage)': False, 'contains(opportunity)': False, 'contains(lets)': False, 'contains(japanese)': False, 'contains(generally)': False, 'contains(remarkably)': False, 'contains(holds)': False, 'contains(una)': False, 'contains(girls)': False, 'contains(excitement)': False, 'contains(riveting)': False, 'contains(niro)': False, 'contains(thought-provoking)': False, 'contains(treatment)': False, 'contains(humanity)': False, 'contains(intended)': False, 'contains(crowd)': False, 'contains(wait)': False, 'contains(trip)': False, 'contains(damned)': False, 'contains(simplistic)': False, 'contains(shallow)': False, 'contains(particular)': False, 'contains(slice)': False, 'contains(murphy)': False, 'contains(equivalent)': False, \"contains(we're)\": False, 'contains(kid)': False, 'contains(delicate)': False, 'contains(balance)': False, 'contains(wish)': False, 'contains(pay)': False, 'contains(needed)': False, 'contains(heartfelt)': False, 'contains(peter)': False, 'contains(writer)': False, 'contains(charisma)': False, 'contains(fit)': False, 'contains(wildly)': False, 'contains(aside)': False, 'contains(spectacle)': False, 'contains(spielberg)': False, 'contains(affair)': False, 'contains(usually)': False, 'contains(filmed)': False, 'contains(2002)': False, 'contains(powers)': False, 'contains(x)': False, 'contains(believable)': False, 'contains(lazy)': False, 'contains(car)': False, 'contains(america)': False, 'contains(large)': False, 'contains(s)': False, 'contains(minor)': False, 'contains(core)': False, 'contains(fiction)': False, \"contains(hasn't)\": False, 'contains(guilty)': False, 'contains(within)': False, 'contains(unusual)': False, 'contains(ice)': False, 'contains(purpose)': False, 'contains(green)': False, 'contains(efforts)': False, 'contains(sequence)': False, 'contains(sports)': False, 'contains(devoid)': False, 'contains(natural)': False, 'contains(figure)': False, 'contains(indie)': False, 'contains(detail)': False, \"contains(wasn't)\": False, 'contains(gangster)': False, 'contains(open)': False, 'contains(vehicle)': False, 'contains(further)': False, 'contains(decades)': False, 'contains(spiritual)': False, 'contains(fear)': False, 'contains(party)': False, 'contains(mesmerizing)': False, 'contains(longer)': False, 'contains(deeper)': False, 'contains(directors)': False, 'contains(fashion)': False, 'contains(talk)': False, 'contains(meaning)': False, \"contains(who's)\": False, 'contains(bears)': False, 'contains(funnier)': False, \"contains(i'd)\": False, 'contains(mindless)': False, 'contains(poorly)': False, 'contains(dreams)': False, 'contains(delight)': False, 'contains(god)': False, 'contains(deftly)': False, 'contains(revenge)': False, 'contains(universal)': False, 'contains(sounds)': False, 'contains(stay)': False, 'contains(ridiculous)': False, 'contains(theme)': False, 'contains(motion)': False, 'contains(sea)': False, 'contains(directorial)': False, 'contains(quietly)': False, 'contains(telling)': False, 'contains(sum)': False, \"contains(wouldn't)\": False, 'contains(spectacular)': False, 'contains(score)': False, 'contains(empty)': False, 'contains(wife)': False, 'contains(realistic)': False, 'contains(editing)': False, 'contains(exhilarating)': False, 'contains(greatest)': False, 'contains(space)': False, 'contains(credits)': False, 'contains(promising)': False, 'contains(festival)': False, 'contains(skill)': False, 'contains(combination)': False, 'contains(stale)': False, 'contains(offering)': False, 'contains(extraordinary)': False, 'contains(value)': False, 'contains(frequently)': False, 'contains(gross-out)': False, 'contains(turned)': False, 'contains(results)': False, 'contains(society)': False, 'contains(poetic)': False, 'contains(repetitive)': False, 'contains(overly)': False, 'contains(expected)': False, 'contains(blade)': False, 'contains(stunts)': False, 'contains(shame)': False, 'contains(daring)': False, 'contains(profound)': False, 'contains(exploration)': False, 'contains(members)': False, 'contains(talking)': False, 'contains(century)': False, 'contains(constructed)': False, 'contains(martin)': False, 'contains(pleasures)': False, 'contains(endearing)': False, 'contains(irritating)': False, 'contains(prove)': False, 'contains(paced)': False, 'contains(accessible)': False, 'contains(count)': False, 'contains(gem)': False, 'contains(chase)': False, 'contains(reading)': False, 'contains(desire)': False, 'contains(sight)': False, 'contains(\\x97)': False, 'contains(awkward)': False, 'contains(j)': False, 'contains(manipulative)': False, 'contains(stage)': False, 'contains(public)': False, 'contains(strength)': False, 'contains(crimes)': False, 'contains(kevin)': False, 'contains(release)': False, 'contains(represents)': False, 'contains(holes)': False, 'contains(identity)': False, 'contains(10)': False, 'contains(behavior)': False, 'contains(affection)': False, 'contains(win)': False, 'contains(achieves)': False, 'contains(number)': False, 'contains(intense)': False, 'contains(avoid)': False, 'contains(pointless)': False, 'contains(shots)': False, 'contains(striking)': False, 'contains(complicated)': False, 'contains(performers)': False, 'contains(provide)': False, 'contains(roger)': False, 'contains(dreary)': False, 'contains(development)': False, 'contains(king)': False, \"contains(haven't)\": False, 'contains(generation)': False, 'contains(values)': False, 'contains(oddly)': False, 'contains(farce)': False, 'contains(allen)': False, 'contains(visuals)': False, 'contains(cinematography)': False, 'contains(move)': False, 'contains(consider)': False, 'contains(free)': False, 'contains(justice)': False, 'contains(surface)': False, 'contains(credit)': False, 'contains(disguise)': False, 'contains(james)': False, 'contains(perspective)': False, 'contains(thinks)': False, 'contains(musical)': False, 'contains(beat)': False, 'contains(diverting)': False, 'contains(produced)': False, 'contains(ground)': False, 'contains(glimpse)': False, 'contains(return)': False, 'contains(weight)': False, 'contains(hackneyed)': False, 'contains(serves)': False, 'contains(example)': False, 'contains(bits)': False, 'contains(admirable)': False, 'contains(offensive)': False, 'contains(structure)': False, 'contains(folks)': False, 'contains(hot)': False, 'contains(community)': False, 'contains(chance)': False, 'contains(yarn)': False, 'contains(pulls)': False, 'contains(machine)': False, 'contains(brown)': False, 'contains(subjects)': False, 'contains(determined)': False, 'contains(intentions)': False, 'contains(top)': False, 'contains(stands)': False, 'contains(blood)': False, \"contains(story's)\": False, 'contains(tribute)': False, 'contains(killer)': False, 'contains(ghost)': False, 'contains(struggle)': False, 'contains(overcome)': False, 'contains(nicely)': False, 'contains(levels)': False, 'contains(tiresome)': False, 'contains(friends)': False, 'contains(shake)': False, 'contains(damn)': False, 'contains(failure)': False, 'contains(imagery)': False, 'contains(friday)': False, 'contains(group)': False, 'contains(chilling)': False, 'contains(ages)': False, 'contains(wise)': False, 'contains(concerned)': False, 'contains(courage)': False, 'contains(challenging)': False, 'contains(numbers)': False, 'contains(moviemaking)': False, 'contains(buy)': False, 'contains(frustrating)': False, 'contains(main)': False, 'contains(screenwriter)': False, 'contains(intrigue)': False, 'contains(happen)': False, 'contains(fears)': False, 'contains(um)': False, 'contains(artistic)': False, 'contains(designed)': False, 'contains(predecessor)': False, 'contains(necessary)': False, 'contains(loved)': False, 'contains(adam)': False, 'contains(raw)': False, 'contains(nowhere)': False, 'contains(voice)': False, 'contains(unless)': False, 'contains(incredibly)': False, 'contains(giant)': False, 'contains(save)': False, 'contains(waiting)': False, 'contains(using)': False, 'contains(walk)': False, 'contains(songs)': False, 'contains(commercial)': False, 'contains(clumsy)': False, 'contains(trifle)': False, 'contains(delivered)': False, 'contains(enjoyed)': False, 'contains(emerges)': False, 'contains(presence)': False, 'contains(games)': False, 'contains(ring)': False, 'contains(marks)': False, 'contains(attraction)': False, 'contains(beneath)': False, 'contains(follow)': False, 'contains(nonsense)': False, 'contains(del)': False, 'contains(reach)': False, 'contains(grand)': False, 'contains(apparently)': False, 'contains(present)': False, 'contains(modest)': False, 'contains(first-time)': False, 'contains(national)': False, 'contains(land)': False, 'contains(maudlin)': False, 'contains(sappy)': False, 'contains(monty)': False, \"contains(characters')\": False, 'contains(delivery)': False, 'contains(flair)': False, 'contains(studio)': False, 'contains(industry)': False, 'contains(queen)': False, 'contains(accomplished)': False, 'contains(disappointing)': False, 'contains(favor)': False, 'contains(moviegoers)': False, 'contains(tender)': False, 'contains(meandering)': False, 'contains(wonderfully)': False, 'contains(annoying)': False, 'contains(scenario)': False, 'contains(type)': False, 'contains(wry)': False, 'contains(dazzling)': False, 'contains(talents)': False, 'contains(hip-hop)': False, 'contains(digital)': False, 'contains(bittersweet)': False, 'contains(un)': False, 'contains(humorous)': False, 'contains(dance)': False, 'contains(unpleasant)': False, 'contains(matters)': False, 'contains(chris)': False, 'contains(outrageous)': False, 'contains(vibrant)': False, 'contains(sheer)': False, 'contains(mainstream)': False, \"contains(i'll)\": False, 'contains(standards)': False, \"contains(world's)\": False, 'contains(creating)': False, 'contains(realism)': False, 'contains(bore)': False, 'contains(jason)': False, 'contains(deserve)': False, 'contains(b-movie)': False, 'contains(vs)': False, 'contains(seat)': False, 'contains(desperate)': False, 'contains(authentic)': False, 'contains(adolescent)': False, 'contains(eight)': False, 'contains(budget)': False, 'contains(parker)': False, 'contains(team)': False, 'contains(fall)': False, 'contains(mike)': False, 'contains(chinese)': False, 'contains(stock)': False, 'contains(surely)': False, 'contains(bunch)': False, 'contains(directing)': False, 'contains(roles)': False, 'contains(storyline)': False, 'contains(winds)': False, \"contains('the)\": False, 'contains(document)': False, 'contains(jones)': False, 'contains(list)': False, 'contains(twice)': False, 'contains(superior)': False, 'contains(spend)': False, 'contains(emotion)': False, 'contains(precious)': False, 'contains(broad)': False, 'contains(damage)': False, 'bigram(. .)': False, 'bigram(. the)': False, 'bigram(. a)': False, 'bigram(of the)': False, 'bigram(, but)': False, 'bigram(, and)': False, 'bigram(in the)': False, 'bigram(the film)': False, 'bigram(is a)': False, \"bigram(. it's)\": False, 'bigram(, the)': False, 'bigram(of a)': False, 'bigram(to the)': False, 'bigram(and the)': False, 'bigram(to be)': False, 'bigram(the movie)': False, 'bigram(. it)': False, 'bigram(. this)': False, 'bigram(for the)': False, 'bigram(it is)': False, 'bigram(with a)': False, 'bigram(. an)': False, 'bigram(as a)': False, 'bigram(in a)': False, 'bigram(on the)': False, 'bigram(one of)': False, 'bigram(and a)': False, 'bigram(this is)': False, 'bigram(a movie)': False, \"bigram(it's a)\": False, 'bigram(, it)': False, 'bigram(. if)': False, 'bigram(with the)': False, 'bigram(film is)': False, 'bigram(like a)': False, 'bigram(, a)': False, 'bigram(for a)': False, 'bigram(it .)': False, 'bigram(the most)': False, 'bigram(. but)': False, 'bigram(but it)': False, 'bigram(film .)': False, 'bigram(of its)': False, 'bigram(movie .)': False, \"bigram(, it's)\": False, 'bigram(, this)': False, 'bigram(a film)': False, 'bigram(as the)': False, 'bigram(. i)': False, 'bigram(from the)': False, 'bigram(at the)': False, 'bigram(all the)': False, 'bigram(by the)': False, 'bigram(movie is)': False, 'bigram(but the)': False, 'bigram(in its)': False, 'bigram(is the)': False, 'bigram(more than)': False, 'bigram(. as)': False, 'bigram(kind of)': False, 'bigram(that is)': False, 'bigram(about the)': False, 'bigram(, with)': False, 'bigram(film that)': False, 'bigram(movie ,)': False, 'bigram(film ,)': False, \"bigram(the film's)\": False, 'bigram(the story)': False, 'bigram(to a)': False, 'bigram(this movie)': False, 'bigram(has a)': False, 'bigram(have been)': False, 'bigram(movie that)': False, 'bigram(that it)': False, 'bigram(to make)': False, 'bigram(that the)': False, 'bigram(into the)': False, 'bigram(out of)': False, 'bigram(. what)': False, 'bigram(in this)': False, 'bigram(the best)': False, 'bigram(, as)': False, 'bigram(. in)': False, 'bigram(as it)': False, 'bigram(. one)': False, 'bigram(a good)': False, 'bigram(, is)': False, \"bigram(. ')\": False, 'bigram(. while)': False, 'bigram(. \")': False, \"bigram(. there's)\": False, \"bigram(but it's)\": False, 'bigram(if you)': False, 'bigram(its own)': False, 'bigram(sense of)': False, 'bigram(this film)': False, 'bigram(the same)': False, 'bigram(enough to)': False, 'bigram(is an)': False, 'bigram(be a)': False, 'bigram(into a)': False, 'bigram(is that)': False, 'bigram(to see)': False, 'bigram(. there)': False, 'bigram(a lot)': False, 'bigram(is so)': False, 'bigram(is not)': False, 'bigram(, which)': False, 'bigram(-- and)': False, 'bigram(, in)': False, 'bigram(comedy .)': False, 'bigram(than a)': False, 'bigram(the first)': False, 'bigram(time .)': False, 'bigram(. for)': False, 'bigram(. like)': False, 'bigram(a few)': False, 'bigram(look at)': False, 'bigram(a little)': False, 'bigram(on a)': False, 'bigram(. you)': False, 'bigram(the characters)': False, 'bigram(. with)': False, 'bigram(the end)': False, 'bigram(. and)': False, 'bigram(of this)': False, 'bigram(from a)': False, 'bigram(of an)': False, 'bigram(than the)': False, 'bigram(may be)': False, 'bigram(the way)': False, 'bigram(, you)': False, 'bigram(. not)': False, 'bigram(there is)': False, 'bigram(funny ,)': False, \"bigram(it's not)\": False, 'bigram(story .)': False, 'bigram(a great)': False, 'bigram(and ,)': False, 'bigram(by a)': False, 'bigram(of his)': False, 'bigram(mr .)': False, 'bigram(the kind)': False, 'bigram(you can)': False, 'bigram(, i)': False, 'bigram(. though)': False, 'bigram(not a)': False, 'bigram(. even)': False, 'bigram(there are)': False, 'bigram(hard to)': False, 'bigram(like the)': False, 'bigram(so much)': False, 'bigram(to watch)': False, 'bigram(most of)': False, 'bigram(them .)': False, 'bigram(, even)': False, 'bigram(, if)': False, 'bigram(is one)': False, 'bigram(, who)': False, 'bigram(about a)': False, 'bigram(manages to)': False, 'bigram(of those)': False, 'bigram(would be)': False, 'bigram(for its)': False, 'bigram(romantic comedy)': False, 'bigram(want to)': False, 'bigram(and his)': False, 'bigram(such a)': False, 'bigram(the audience)': False, 'bigram(, or)': False, 'bigram(at least)': False, 'bigram(to have)': False, 'bigram(work .)': False, 'bigram(, not)': False, 'bigram(a very)': False, 'bigram(could have)': False, 'bigram(much of)': False, 'bigram(it ,)': False, 'bigram(it has)': False, 'bigram(story ,)': False, 'bigram(with an)': False, 'bigram(. despite)': False, 'bigram(as an)': False, 'bigram(have a)': False, 'bigram(in which)': False, 'bigram(that ,)': False, 'bigram(the plot)': False, 'bigram(through the)': False, 'bigram(trying to)': False, 'bigram(full of)': False, 'bigram(if the)': False, 'bigram(some of)': False, 'bigram(to get)': False, 'bigram(as if)': False, 'bigram(in his)': False, \"bigram(the movie's)\": False, 'bigram(with its)': False, 'bigram(and its)': False, 'bigram(characters .)': False, \"bigram(if you're)\": False, 'bigram(of it)': False, 'bigram(should be)': False, 'bigram(will be)': False, 'bigram(and an)': False, 'bigram(can be)': False, 'bigram(is ,)': False, \"bigram(it doesn't)\": False, 'bigram(lot of)': False, 'bigram(one .)': False, 'bigram(seems to)': False, 'bigram(up to)': False, 'bigram(. is)': False, 'bigram(. too)': False, 'bigram(if it)': False, 'bigram(on its)': False, \"bigram(that it's)\": False, 'bigram(too much)': False, 'bigram(would have)': False, 'bigram(. at)': False, 'bigram(. just)': False, 'bigram(life .)': False, 'bigram(portrait of)': False, 'bigram(sort of)': False, 'bigram(the only)': False, 'bigram(a bad)': False, 'bigram(a story)': False, 'bigram(as well)': False, 'bigram(characters ,)': False, 'bigram(piece of)': False, 'bigram(, \")': False, 'bigram(, so)': False, 'bigram(, though)': False, 'bigram(a bit)': False, 'bigram(this one)': False, 'bigram(. its)': False, 'bigram(of all)': False, 'bigram(rather than)': False, 'bigram(the whole)': False, 'bigram(when it)': False, 'bigram(\" is)': False, 'bigram(, that)': False, 'bigram(at times)': False, 'bigram(drama .)': False, 'bigram(has the)': False, 'bigram(it was)': False, 'bigram(lack of)': False, 'bigram(not only)': False, 'bigram(. has)': False, 'bigram(be the)': False, 'bigram(funny .)': False, \"bigram(it's the)\": False, 'bigram(to say)': False, 'bigram(, like)': False, 'bigram(. all)': False, 'bigram(and it)': False, 'bigram(even if)': False, 'bigram(for all)': False, 'bigram(has been)': False, 'bigram(is just)': False, 'bigram(the script)': False, 'bigram(to do)': False, 'bigram(. although)': False, 'bigram(at a)': False, 'bigram(end ,)': False, 'bigram(film about)': False, 'bigram(have to)': False, 'bigram(in an)': False, 'bigram(the big)': False, 'bigram(the original)': False, 'bigram(the year)': False, \"bigram(there's no)\": False, 'bigram(to keep)': False, 'bigram(. so)': False, 'bigram(at its)': False, 'bigram(fun .)': False, 'bigram(it all)': False, 'bigram(it would)': False, 'bigram(just a)': False, 'bigram(tale of)': False, 'bigram(that makes)': False, 'bigram(the screen)': False, 'bigram(way .)': False, 'bigram(while the)': False, 'bigram() ,)': False, 'bigram(. director)': False, 'bigram(. no)': False, 'bigram(. when)': False, 'bigram(feels like)': False, 'bigram(is more)': False, 'bigram(it does)': False, 'bigram(that you)': False, 'bigram(the worst)': False, 'bigram(, no)': False, 'bigram(, one)': False, \"bigram(and it's)\": False, 'bigram(going to)': False, 'bigram(is as)': False, 'bigram(over the)': False, 'bigram(the last)': False, 'bigram(\" the)': False, 'bigram(. that)': False, 'bigram(comedy that)': False, 'bigram(instead of)': False, 'bigram(may not)': False, 'bigram(screen .)': False, 'bigram(the performances)': False, 'bigram(those who)': False, 'bigram(to find)': False, 'bigram(to its)': False, 'bigram(, at)': False, 'bigram(, its)': False, 'bigram(, then)': False, 'bigram(-- but)': False, 'bigram(but not)': False, 'bigram(funny and)': False, 'bigram(not to)': False, 'bigram(that will)': False, 'bigram(the picture)': False, 'bigram(the right)': False, 'bigram(the time)': False, 'bigram(year .)': False, 'bigram(, an)': False, 'bigram(all of)': False, 'bigram(and even)': False, 'bigram(be .)': False, 'bigram(better than)': False, 'bigram(documentary .)': False, 'bigram(is .)': False, 'bigram(is in)': False, 'bigram(it may)': False, 'bigram(the cast)': False, 'bigram(too many)': False, 'bigram(way to)': False, 'bigram(which is)': False, 'bigram(( and)': False, 'bigram(, to)': False, 'bigram(, too)': False, 'bigram(. by)': False, 'bigram(a fascinating)': False, 'bigram(a long)': False, 'bigram(but a)': False, 'bigram(film with)': False, 'bigram(humor .)': False, 'bigram(might have)': False, 'bigram(story is)': False, 'bigram(the filmmakers)': False, 'bigram(the theater)': False, 'bigram(time ,)': False, 'bigram(when the)': False, 'bigram(, while)': False, 'bigram(a new)': False, 'bigram(all its)': False, 'bigram(and more)': False, 'bigram(and not)': False, 'bigram(audience .)': False, 'bigram(is to)': False, 'bigram(is too)': False, 'bigram(makes the)': False, \"bigram(there's a)\": False, 'bigram(to take)': False, 'bigram(version of)': False, 'bigram(what is)': False, 'bigram(as much)': False, 'bigram(by its)': False, 'bigram(characters and)': False, 'bigram(comedy ,)': False, 'bigram(fails to)': False, \"bigram(it's hard)\": False, 'bigram(make a)': False, 'bigram(make it)': False, 'bigram(movie with)': False, 'bigram(of their)': False, 'bigram(off the)': False, 'bigram(plays like)': False, 'bigram(should have)': False, 'bigram(the director)': False, 'bigram(work of)': False, 'bigram(, for)': False, 'bigram(, we)': False, 'bigram(. some)': False, 'bigram(. to)': False, 'bigram(a real)': False, 'bigram(but this)': False, 'bigram(exercise in)': False, 'bigram(people who)': False, 'bigram(performances .)': False, 'bigram(the fact)': False, 'bigram(the other)': False, 'bigram(the world)': False, 'bigram(well as)': False, 'bigram(, more)': False, 'bigram(-- the)': False, 'bigram(a big)': False, 'bigram(and then)': False, 'bigram(because it)': False, 'bigram(film has)': False, 'bigram(of these)': False, 'bigram(out to)': False, 'bigram(part of)': False, 'bigram(special effects)': False, 'bigram(than it)': False, 'bigram(the more)': False, 'bigram(the very)': False, 'bigram(times ,)': False, 'bigram(, especially)': False, 'bigram(. we)': False, 'bigram(a way)': False, 'bigram(about as)': False, 'bigram(but also)': False, 'bigram(characters are)': False, 'bigram(despite its)': False, 'bigram(even the)': False, 'bigram(far more)': False, 'bigram(good ,)': False, 'bigram(here .)': False, 'bigram(it a)': False, \"bigram(it's also)\": False, \"bigram(it's just)\": False, 'bigram(just as)': False, 'bigram(might be)': False, 'bigram(none of)': False, 'bigram(of what)': False, 'bigram(see it)': False, 'bigram(story and)': False, 'bigram(subject matter)': False, 'bigram(thriller .)': False, 'bigram(you have)': False, \"bigram(, ')\": False, 'bigram(-- a)': False, 'bigram(a more)': False, 'bigram(fact that)': False, 'bigram(film of)': False, 'bigram(here ,)': False, 'bigram(his own)': False, 'bigram(is about)': False, 'bigram(it makes)': False, 'bigram(it to)': False, \"bigram(it's an)\": False, 'bigram(minutes .)': False, 'bigram(moments of)': False, \"bigram(that doesn't)\": False, 'bigram(that has)': False, 'bigram(the actors)': False, 'bigram(tries to)': False, 'bigram(way ,)': False, 'bigram(what it)': False, 'bigram(. more)': False, 'bigram(a comedy)': False, 'bigram(able to)': False, 'bigram(all .)': False, 'bigram(and that)': False, 'bigram(entertainment .)': False, 'bigram(films .)': False, 'bigram(how to)': False, 'bigram(like this)': False, 'bigram(lots of)': False, 'bigram(make the)': False, 'bigram(makes it)': False, 'bigram(movies ,)': False, 'bigram(movies .)': False, 'bigram(much more)': False, 'bigram(not be)': False, 'bigram(one that)': False, 'bigram(out the)': False, 'bigram(performances ,)': False, 'bigram(series of)': False, 'bigram(that are)': False, 'bigram(to give)': False, 'bigram(up .)': False, 'bigram(up in)': False, 'bigram(way of)': False, 'bigram(work ,)': False, 'bigram(you might)': False, 'bigram(, yet)': False, \"bigram(, you'll)\": False, 'bigram(. nothing)': False, 'bigram(a compelling)': False, 'bigram(and in)': False, 'bigram(as its)': False, 'bigram(care about)': False, 'bigram(each other)': False, 'bigram(examination of)': False, 'bigram(for this)': False, 'bigram(heart .)': False, 'bigram(humor and)': False, 'bigram(in all)': False, 'bigram(likely to)': False, 'bigram(little more)': False, 'bigram(long ,)': False, 'bigram(looking for)': False, 'bigram(of love)': False, 'bigram(of movie)': False, 'bigram(or the)': False, 'bigram(so many)': False, 'bigram(story of)': False, 'bigram(story that)': False, 'bigram(that this)': False, 'bigram(the material)': False, 'bigram(the title)': False, 'bigram(to go)': False}\n"
     ]
    }
   ],
   "source": [
    "# use this function to create feature sets for all sentences\n",
    "bigram_featuresets = [(bigram_document_features(d, word_features, bigram_features), c) for (d, c) in documents]\n",
    "\n",
    "# number of features for document 0\n",
    "print(len(bigram_featuresets[0][0].keys()))\n",
    "\n",
    "# features in document 0\n",
    "print(bigram_featuresets[0][0])"
   ]
  },
  {
   "cell_type": "code",
   "execution_count": 20,
   "metadata": {},
   "outputs": [
    {
     "data": {
      "text/plain": [
       "0.739"
      ]
     },
     "execution_count": 20,
     "metadata": {},
     "output_type": "execute_result"
    }
   ],
   "source": [
    "# train a classifier and report accuracy\n",
    "train_set, test_set = bigram_featuresets[1000:], bigram_featuresets[:1000]\n",
    "classifier = nltk.NaiveBayesClassifier.train(train_set)\n",
    "nltk.classify.accuracy(classifier, test_set)"
   ]
  },
  {
   "cell_type": "code",
   "execution_count": 21,
   "metadata": {},
   "outputs": [
    {
     "name": "stdout",
     "output_type": "stream",
     "text": [
      "['Arthur', 'carefully', 'rode', 'the', 'brown', 'horse', 'around', 'the', 'castle']\n",
      "[('Arthur', 'NNP'), ('carefully', 'RB'), ('rode', 'VBD'), ('the', 'DT'), ('brown', 'JJ'), ('horse', 'NN'), ('around', 'IN'), ('the', 'DT'), ('castle', 'NN')]\n"
     ]
    }
   ],
   "source": [
    "###  POS tag counts\n",
    "# using the default pos tagger in NLTK (the Stanford tagger)\n",
    "print(sent)\n",
    "print(nltk.pos_tag(sent))"
   ]
  },
  {
   "cell_type": "code",
   "execution_count": 22,
   "metadata": {
    "collapsed": true
   },
   "outputs": [],
   "source": [
    "# this function takes a document list of words and returns a feature dictionary\n",
    "# it runs the default pos tagger (the Stanford tagger) on the document\n",
    "#   and counts 4 types of pos tags to use as features\n",
    "def POS_features(document, word_features):\n",
    "    document_words = set(document)\n",
    "    tagged_words = nltk.pos_tag(document)\n",
    "    features = {}\n",
    "    for word in word_features:\n",
    "        features['contains({})'.format(word)] = (word in document_words)\n",
    "    numNoun = 0\n",
    "    numVerb = 0\n",
    "    numAdj = 0\n",
    "    numAdverb = 0\n",
    "    for (word, tag) in tagged_words:\n",
    "        if tag.startswith('N'): numNoun += 1\n",
    "        if tag.startswith('V'): numVerb += 1\n",
    "        if tag.startswith('J'): numAdj += 1\n",
    "        if tag.startswith('R'): numAdverb += 1\n",
    "    features['nouns'] = numNoun\n",
    "    features['verbs'] = numVerb\n",
    "    features['adjectives'] = numAdj\n",
    "    features['adverbs'] = numAdverb\n",
    "    return features"
   ]
  },
  {
   "cell_type": "code",
   "execution_count": 24,
   "metadata": {},
   "outputs": [
    {
     "name": "stdout",
     "output_type": "stream",
     "text": [
      "1504\n"
     ]
    }
   ],
   "source": [
    "# define feature sets using this function\n",
    "POS_featuresets = [(POS_features(d, word_features), c) for (d, c) in documents]\n",
    "# number of features for document 0\n",
    "print(len(POS_featuresets[0][0].keys()))"
   ]
  },
  {
   "cell_type": "code",
   "execution_count": 26,
   "metadata": {},
   "outputs": [
    {
     "name": "stdout",
     "output_type": "stream",
     "text": [
      "(['the', \"film's\", 'center', 'will', 'not', 'hold', '.'], 'neg')\n",
      "num nouns 2\n",
      "num verbs 1\n",
      "num adjectives 0\n",
      "num adverbs 1\n"
     ]
    }
   ],
   "source": [
    "# the first sentence\n",
    "print(documents[0])\n",
    "# the pos tag features for this sentence\n",
    "print('num nouns', POS_featuresets[0][0]['nouns'])\n",
    "print('num verbs', POS_featuresets[0][0]['verbs'])\n",
    "print('num adjectives', POS_featuresets[0][0]['adjectives'])\n",
    "print('num adverbs', POS_featuresets[0][0]['adverbs'])"
   ]
  },
  {
   "cell_type": "code",
   "execution_count": 27,
   "metadata": {},
   "outputs": [
    {
     "data": {
      "text/plain": [
       "0.742"
      ]
     },
     "execution_count": 27,
     "metadata": {},
     "output_type": "execute_result"
    }
   ],
   "source": [
    "# train and test the classifier\n",
    "train_set, test_set = POS_featuresets[1000:], POS_featuresets[:1000]\n",
    "classifier = nltk.NaiveBayesClassifier.train(train_set)\n",
    "nltk.classify.accuracy(classifier, test_set)"
   ]
  },
  {
   "cell_type": "code",
   "execution_count": 7,
   "metadata": {
    "collapsed": true
   },
   "outputs": [],
   "source": [
    "## cross-validation ##\n",
    "# this function takes the number of folds, the feature sets\n",
    "# it iterates over the folds, using different sections for training and testing in turn\n",
    "#   it prints the accuracy for each fold and the average accuracy at the end\n",
    "def cross_validation_accuracy(num_folds, featuresets):\n",
    "    subset_size = int(len(featuresets)/num_folds)\n",
    "    accuracy_list = []\n",
    "    # iterate over the folds\n",
    "    for i in range(num_folds):\n",
    "        test_this_round = featuresets[(i*subset_size):][:subset_size]\n",
    "        train_this_round = featuresets[:(i*subset_size)] + featuresets[((i+1)*subset_size):]\n",
    "        # train using train_this_round\n",
    "        classifier = nltk.NaiveBayesClassifier.train(train_this_round)\n",
    "        # evaluate against test_this_round and save accuracy\n",
    "        accuracy_this_round = nltk.classify.accuracy(classifier, test_this_round)\n",
    "        print (i, accuracy_this_round)\n",
    "        accuracy_list.append(accuracy_this_round)\n",
    "    # find mean accuracy over all rounds\n",
    "    print ('mean accuracy', sum(accuracy_list) / num_folds)"
   ]
  },
  {
   "cell_type": "code",
   "execution_count": 8,
   "metadata": {},
   "outputs": [
    {
     "name": "stdout",
     "output_type": "stream",
     "text": [
      "0 0.7424953095684803\n",
      "1 0.725140712945591\n",
      "2 0.7424953095684803\n",
      "3 0.7368667917448405\n",
      "4 0.7424953095684803\n",
      "mean accuracy 0.7378986866791744\n"
     ]
    }
   ],
   "source": [
    "# perform the cross-validation on the featuresets with word features and generate accuracy\n",
    "num_folds = 5\n",
    "cross_validation_accuracy(num_folds, featuresets)"
   ]
  },
  {
   "cell_type": "code",
   "execution_count": null,
   "metadata": {
    "collapsed": true
   },
   "outputs": [],
   "source": []
  }
 ],
 "metadata": {
  "kernelspec": {
   "display_name": "Python 3",
   "language": "python",
   "name": "python3"
  },
  "language_info": {
   "codemirror_mode": {
    "name": "ipython",
    "version": 3
   },
   "file_extension": ".py",
   "mimetype": "text/x-python",
   "name": "python",
   "nbconvert_exporter": "python",
   "pygments_lexer": "ipython3",
   "version": "3.6.1"
  }
 },
 "nbformat": 4,
 "nbformat_minor": 2
}
